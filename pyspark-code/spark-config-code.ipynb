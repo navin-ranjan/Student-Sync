{
 "cells": [
  {
   "cell_type": "code",
   "execution_count": 1,
   "metadata": {},
   "outputs": [
    {
     "name": "stderr",
     "output_type": "stream",
     "text": [
      "23/09/23 19:19:28 WARN Utils: Your hostname, rohan-NS14A8 resolves to a loopback address: 127.0.1.1; using 192.168.93.194 instead (on interface wlp1s0)\n",
      "23/09/23 19:19:28 WARN Utils: Set SPARK_LOCAL_IP if you need to bind to another address\n",
      "Setting default log level to \"WARN\".\n",
      "To adjust logging level use sc.setLogLevel(newLevel). For SparkR, use setLogLevel(newLevel).\n",
      "23/09/23 19:19:29 WARN NativeCodeLoader: Unable to load native-hadoop library for your platform... using builtin-java classes where applicable\n"
     ]
    }
   ],
   "source": [
    "from pyspark.sql import SparkSession\n",
    "from pyspark import SparkConf\n",
    "\n",
    "# Create a SparkConf object\n",
    "conf = SparkConf()\n",
    "\n",
    "# Set the Spark Master URL (make sure it's correct and running)\n",
    "conf.setMaster('spark://192.168.93.194:7077')\n",
    "\n",
    "# Set the application name\n",
    "conf.setAppName('Student-sync')\n",
    "conf.set(\"spark.dynamicAllocation.enabled\", \"true\")\n",
    "conf.set(\"spark.executor.memoryOverhead\", \"500m\")\n",
    "\n",
    "# Set the number of executor instances\n",
    "conf.set(\"spark.executor.instances\", \"2\")\n",
    "\n",
    "# Set executor cores and memory\n",
    "conf.set(\"spark.executor.cores\", \"1\")\n",
    "conf.set(\"spark.executor.memory\", \"800m\")\n",
    "\n",
    "# Disable dynamic allocation\n",
    "#conf.set(\"spark.dynamicAllocation.enabled\", \"false\")\n",
    "\n",
    "# Create a SparkSession with the configuration\n",
    "spark = SparkSession.builder.config(conf=conf).getOrCreate()\n"
   ]
  }
 ],
 "metadata": {
  "kernelspec": {
   "display_name": "Python 3",
   "language": "python",
   "name": "python3"
  },
  "language_info": {
   "codemirror_mode": {
    "name": "ipython",
    "version": 3
   },
   "file_extension": ".py",
   "mimetype": "text/x-python",
   "name": "python",
   "nbconvert_exporter": "python",
   "pygments_lexer": "ipython3",
   "version": "3.10.12"
  },
  "orig_nbformat": 4
 },
 "nbformat": 4,
 "nbformat_minor": 2
}
