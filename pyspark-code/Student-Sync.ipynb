{
 "cells": [
  {
   "cell_type": "code",
   "execution_count": 1,
   "metadata": {},
   "outputs": [],
   "source": [
    "from pyspark.sql import SparkSession\n",
    "from pyspark import SparkConf"
   ]
  },
  {
   "cell_type": "code",
   "execution_count": 2,
   "metadata": {},
   "outputs": [
    {
     "data": {
      "text/plain": [
       "<pyspark.conf.SparkConf at 0x7fa040106590>"
      ]
     },
     "execution_count": 2,
     "metadata": {},
     "output_type": "execute_result"
    }
   ],
   "source": [
    "conf=SparkConf()\n",
    "conf.setMaster('spark://192.168.93.194:7077')\n",
    "conf.setAppName('Student-sync')\n",
    "#conf.set(\"spark.dynamicAllocation.enabled\", \"true\")\n",
    "#conf.set(\"spark.executor.memoryOverhead\", \"300m\")\n",
    "conf.set(\"spark.driver.cores\", \"1\")\n",
    "conf.set(\"spark.driver.memory\", \"500m\")\n",
    "conf.set(\"spark.executor.instances\", \"2\")\n",
    "conf.set(\"spark.executor.cores\", \"1\")\n",
    "conf.set(\"spark.executor.memory\", \"800m\")"
   ]
  },
  {
   "cell_type": "code",
   "execution_count": 3,
   "metadata": {},
   "outputs": [
    {
     "name": "stderr",
     "output_type": "stream",
     "text": [
      "23/09/23 21:28:16 WARN Utils: Your hostname, rohan-NS14A8 resolves to a loopback address: 127.0.1.1; using 192.168.93.194 instead (on interface wlp1s0)\n",
      "23/09/23 21:28:16 WARN Utils: Set SPARK_LOCAL_IP if you need to bind to another address\n",
      "Setting default log level to \"WARN\".\n",
      "To adjust logging level use sc.setLogLevel(newLevel). For SparkR, use setLogLevel(newLevel).\n",
      "23/09/23 21:28:17 WARN NativeCodeLoader: Unable to load native-hadoop library for your platform... using builtin-java classes where applicable\n"
     ]
    }
   ],
   "source": [
    "spark=SparkSession.builder.config(conf=conf).getOrCreate()"
   ]
  },
  {
   "cell_type": "code",
   "execution_count": 5,
   "metadata": {},
   "outputs": [],
   "source": [
    "data = [1, 2, 3, 4, 5]\n",
    "rdd = spark.sparkContext.parallelize(data)"
   ]
  },
  {
   "cell_type": "markdown",
   "metadata": {},
   "source": [
    "#mark point"
   ]
  },
  {
   "cell_type": "code",
   "execution_count": 8,
   "metadata": {},
   "outputs": [
    {
     "name": "stdout",
     "output_type": "stream",
     "text": [
      "[1, 2, 3, 4, 5]\n"
     ]
    }
   ],
   "source": [
    "pd=rdd.collect()\n",
    "print(pd)"
   ]
  },
  {
   "cell_type": "code",
   "execution_count": 2,
   "metadata": {},
   "outputs": [],
   "source": [
    "from minio import Minio\n",
    "from minio.error import S3Error"
   ]
  },
  {
   "cell_type": "code",
   "execution_count": 3,
   "metadata": {},
   "outputs": [
    {
     "ename": "AttributeError",
     "evalue": "'bytes' object has no attribute 'len'",
     "output_type": "error",
     "traceback": [
      "\u001b[0;31m---------------------------------------------------------------------------\u001b[0m",
      "\u001b[0;31mAttributeError\u001b[0m                            Traceback (most recent call last)",
      "\u001b[1;32m/home/rohan/Desktop/projects/Student-Sync/pyspark-code/Student-Sync.ipynb Cell 8\u001b[0m line \u001b[0;36m8\n\u001b[1;32m      <a href='vscode-notebook-cell:/home/rohan/Desktop/projects/Student-Sync/pyspark-code/Student-Sync.ipynb#X11sZmlsZQ%3D%3D?line=5'>6</a>\u001b[0m \u001b[39mtry\u001b[39;00m:\n\u001b[1;32m      <a href='vscode-notebook-cell:/home/rohan/Desktop/projects/Student-Sync/pyspark-code/Student-Sync.ipynb#X11sZmlsZQ%3D%3D?line=6'>7</a>\u001b[0m     response\u001b[39m=\u001b[39mclient\u001b[39m.\u001b[39mget_object(bucket_name\u001b[39m=\u001b[39mbucket_name,object_name\u001b[39m=\u001b[39mobject_name)\n\u001b[0;32m----> <a href='vscode-notebook-cell:/home/rohan/Desktop/projects/Student-Sync/pyspark-code/Student-Sync.ipynb#X11sZmlsZQ%3D%3D?line=7'>8</a>\u001b[0m     \u001b[39mprint\u001b[39m(response\u001b[39m.\u001b[39;49mread()\u001b[39m.\u001b[39;49mlen)\n\u001b[1;32m      <a href='vscode-notebook-cell:/home/rohan/Desktop/projects/Student-Sync/pyspark-code/Student-Sync.ipynb#X11sZmlsZQ%3D%3D?line=8'>9</a>\u001b[0m \u001b[39mexcept\u001b[39;00m S3Error \u001b[39mas\u001b[39;00m e:\n\u001b[1;32m     <a href='vscode-notebook-cell:/home/rohan/Desktop/projects/Student-Sync/pyspark-code/Student-Sync.ipynb#X11sZmlsZQ%3D%3D?line=9'>10</a>\u001b[0m     \u001b[39mprint\u001b[39m(\u001b[39mf\u001b[39m\u001b[39m\"\u001b[39m\u001b[39mError reading CSV file from MinIO: \u001b[39m\u001b[39m{\u001b[39;00me\u001b[39m}\u001b[39;00m\u001b[39m\"\u001b[39m)\n",
      "\u001b[0;31mAttributeError\u001b[0m: 'bytes' object has no attribute 'len'"
     ]
    }
   ],
   "source": [
    "client = Minio('192.168.93.194:9000',access_key='minioadmin',secret_key='minioadmin', secure=False)\n",
    "\n",
    "bucket_name=\"navin\"\n",
    "object_name=\"mypath/students.csv\"\n",
    "\n",
    "try:\n",
    "    response=client.get_object(bucket_name=bucket_name,object_name=object_name)\n",
    "    print(response.read())\n",
    "except S3Error as e:    \n",
    "    print(f\"Error reading CSV file from MinIO: {e}\")"
   ]
  }
 ],
 "metadata": {
  "kernelspec": {
   "display_name": "Python 3",
   "language": "python",
   "name": "python3"
  },
  "language_info": {
   "codemirror_mode": {
    "name": "ipython",
    "version": 3
   },
   "file_extension": ".py",
   "mimetype": "text/x-python",
   "name": "python",
   "nbconvert_exporter": "python",
   "pygments_lexer": "ipython3",
   "version": "3.10.12"
  },
  "orig_nbformat": 4
 },
 "nbformat": 4,
 "nbformat_minor": 2
}
